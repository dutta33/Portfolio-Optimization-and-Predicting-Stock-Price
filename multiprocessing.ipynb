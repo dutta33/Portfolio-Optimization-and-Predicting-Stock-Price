{
 "cells": [
  {
   "cell_type": "code",
   "execution_count": null,
   "metadata": {},
   "outputs": [],
   "source": [
    "import numpy as np\n",
    "import pandas_datareader.data as web\n",
    "import pandas as pd\n",
    "from pypfopt.efficient_frontier import EfficientFrontier\n",
    "from pypfopt import risk_models\n",
    "from pypfopt import expected_returns\n",
    "from pypfopt.value_at_risk import CVAROpt\n",
    "from pypfopt.discrete_allocation import DiscreteAllocation, get_latest_prices\n",
    "from pypfopt.hierarchical_risk_parity import HRPOpt\n",
    "from pypfopt.cla import CLA\n",
    "from multiprocessing import Pool\n",
    "import matplotlib.pyplot as plt"
   ]
  },
  {
   "cell_type": "code",
   "execution_count": null,
   "metadata": {},
   "outputs": [],
   "source": [
    "stocks = [\"MSFT\",\"AAPL\",\"AMZN\",'NKE','NFLX']\n",
    "numAssets = len(stocks)\n",
    "source = 'yahoo'\n",
    "start = '2017-01-01'\n",
    "end = '2018-10-31'\n",
    "\n",
    "data = pd.DataFrame()\n",
    "#Retrieve stock price data and save just the dividend adjusted closing prices\n",
    "\n",
    "for symbol in stocks:\n",
    "        data[symbol] = web.DataReader(symbol, data_source=source, start=start, end=end)['Adj Close']"
   ]
  },
  {
   "cell_type": "code",
   "execution_count": 76,
   "metadata": {
    "scrolled": true
   },
   "outputs": [],
   "source": [
    "# Calculate expected returns and sample covariance\n",
    "mu = expected_returns.mean_historical_return(data)\n",
    "S = risk_models.sample_cov(data)\n",
    "num_portfolios = 1000\n",
    "risk_free_rate = 0.0178"
   ]
  },
  {
   "cell_type": "code",
   "execution_count": null,
   "metadata": {},
   "outputs": [],
   "source": [
    "def random_portfolios(num_portfolios, mean_returns, cov_matrix, risk_free_rate):\n",
    "    results = np.zeros((3,num_portfolios))\n",
    "    weights_record = []\n",
    "    for i in range(num_portfolios):\n",
    "        weights = np.random.random(5)\n",
    "        weights /= np.sum(weights)\n",
    "        weights_record.append(weights)\n",
    "        portfolio_std_dev, portfolio_return = portfolio_annualised_performance(weights, mean_returns, cov_matrix)\n",
    "        results[0,i] = portfolio_std_dev\n",
    "        results[1,i] = portfolio_return\n",
    "        results[2,i] = (portfolio_return - risk_free_rate) / portfolio_std_dev\n",
    "    return results, weights_record\n",
    "\n",
    "def portfolio_annualised_performance(weights, mean_returns, cov_matrix):\n",
    "    returns = np.sum(mean_returns*weights ) *252\n",
    "    std = np.sqrt(np.dot(weights.T, np.dot(cov_matrix, weights))) * np.sqrt(252)\n",
    "    return std, returns"
   ]
  },
  {
   "cell_type": "code",
   "execution_count": null,
   "metadata": {},
   "outputs": [],
   "source": [
    "def display_simulated_ef_with_random(mean_returns, cov_matrix, num_portfolios, risk_free_rate):\n",
    "    results, weights = random_portfolios(num_portfolios,mean_returns, cov_matrix, risk_free_rate)\n",
    "    \n",
    "    max_sharpe_idx = np.argmax(results[2])\n",
    "    sdp, rp = results[0,max_sharpe_idx], results[1,max_sharpe_idx]\n",
    "    max_sharpe_allocation = pd.DataFrame(weights[max_sharpe_idx],index=data.columns,columns=['allocation'])\n",
    "    max_sharpe_allocation.allocation = [round(i*100,2)for i in max_sharpe_allocation.allocation]\n",
    "    max_sharpe_allocation = max_sharpe_allocation.T\n",
    "    \n",
    "    min_vol_idx = np.argmin(results[0])\n",
    "    sdp_min, rp_min = results[0,min_vol_idx], results[1,min_vol_idx]\n",
    "    min_vol_allocation = pd.DataFrame(weights[min_vol_idx],index=data.columns,columns=['allocation'])\n",
    "    min_vol_allocation.allocation = [round(i*100,2)for i in min_vol_allocation.allocation]\n",
    "    min_vol_allocation = min_vol_allocation.T\n",
    "    \n",
    "    print(\"-\"*80)\n",
    "    print(\"Maximum Sharpe Ratio Portfolio Allocation\\n\")\n",
    "    print(\"Annualised Return:\", round(rp,2))\n",
    "    print(\"Annualised Volatility:\", round(sdp,2))\n",
    "    print(\"\\n\")\n",
    "    print(max_sharpe_allocation)\n",
    "    print(\"-\"*80)\n",
    "    print(\"Minimum Volatility Portfolio Allocation\\n\")\n",
    "    print(\"Annualised Return:\", round(rp_min,2))\n",
    "    print(\"Annualised Volatility:\", round(sdp_min,2))\n",
    "    print(\"\\n\")\n",
    "    print(min_vol_allocation)\n",
    "    \n",
    "    plt.figure(figsize=(10, 7))\n",
    "    plt.scatter(results[0,:],results[1,:],c=results[2,:],cmap='YlGnBu', marker='o', s=10, alpha=0.3)\n",
    "    plt.colorbar()\n",
    "    plt.scatter(sdp,rp,marker='*',color='r',s=500, label='Maximum Sharpe ratio')\n",
    "    plt.scatter(sdp_min,rp_min,marker='*',color='g',s=500, label='Minimum volatility')\n",
    "    plt.title('Simulated Portfolio Optimization based on Efficient Frontier')\n",
    "    plt.xlabel('annualised volatility')\n",
    "    plt.ylabel('annualised returns')\n",
    "    plt.legend(labelspacing=0.8)\n",
    "\n",
    "display_simulated_ef_with_random(mu, S, num_portfolios, risk_free_rate)"
   ]
  },
  {
   "cell_type": "code",
   "execution_count": 77,
   "metadata": {
    "scrolled": false
   },
   "outputs": [
    {
     "name": "stdout",
     "output_type": "stream",
     "text": [
      "--------------------------------------------------------------------------------\n",
      "Maximum Sharpe Ratio Portfolio Allocation\n",
      "\n",
      "Annualised Return: 78.13\n",
      "Annualised Volatility: 1.85\n",
      "\n",
      "\n",
      "--------------------------------------------------------------------------------\n",
      "Minimum Volatility Portfolio Allocation\n",
      "\n",
      "Annualised Return: 46.06\n",
      "Annualised Volatility: 1.59\n",
      "\n",
      "\n"
     ]
    }
   ],
   "source": [
    "import randomport\n",
    "\n",
    "args = (mu, S, num_portfolios, risk_free_rate)\n",
    "\n",
    "if __name__ == '__main__':\n",
    "    p = Pool(8)\n",
    "    results = p.starmap(randomport.display_simulated_ef_with_random, [(data, mu, S, num_portfolios, risk_free_rate) for x in range(100)])\n",
    "    results = pd.DataFrame(results)\n",
    "    p.close()\n",
    "    \n",
    "rp, sdp, rp_min, sdp_min = results[0].max(), results[1].min(), results[2].max(), results[3].min()\n",
    "print(\"-\"*80)\n",
    "print(\"Maximum Sharpe Ratio Portfolio Allocation\\n\")\n",
    "print(\"Annualised Return:\", round(rp,2))\n",
    "print(\"Annualised Volatility:\", round(sdp,2))\n",
    "print(\"\\n\")\n",
    "#     print(results[4])\n",
    "print(\"-\"*80)\n",
    "print(\"Minimum Volatility Portfolio Allocation\\n\")\n",
    "print(\"Annualised Return:\", round(rp_min,2))\n",
    "print(\"Annualised Volatility:\", round(sdp_min,2))\n",
    "print(\"\\n\")\n",
    "# print(results[5])"
   ]
  },
  {
   "cell_type": "code",
   "execution_count": 67,
   "metadata": {},
   "outputs": [
    {
     "data": {
      "text/plain": [
       "<matplotlib.legend.Legend at 0x26df1d78240>"
      ]
     },
     "execution_count": 67,
     "metadata": {},
     "output_type": "execute_result"
    },
    {
     "data": {
      "image/png": "[encoded data removed]",
      "text/plain": [
       "<Figure size 432x288 with 2 Axes>"
      ]
     },
     "metadata": {
      "needs_background": "light"
     },
     "output_type": "display_data"
    }
   ],
   "source": [
    "plt.figure()\n",
    "plt.scatter(results[0].values,results[1].values,c=results[2].values,cmap='YlGnBu', marker='o', s=10, alpha=0.3)\n",
    "plt.colorbar()\n",
    "plt.scatter(sdp,rp,marker='*',color='r',s=500, label='Maximum Sharpe ratio')\n",
    "plt.scatter(sdp_min,rp_min,marker='*',color='g',s=500, label='Minimum volatility')\n",
    "plt.title('Simulated Portfolio Optimization based on Efficient Frontier')\n",
    "plt.xlabel('annualised volatility')\n",
    "plt.ylabel('annualised returns')\n",
    "plt.legend(labelspacing=0.8)"
   ]
  },
  {
   "cell_type": "code",
   "execution_count": null,
   "metadata": {},
   "outputs": [],
   "source": [
    "# # Long-only Maximum Sharpe portfolio, with discretised weights\n",
    "# ef = EfficientFrontier(mu, S)\n",
    "# weights = ef.max_sharpe()\n",
    "# ef.portfolio_performance(verbose=True)\n",
    "# latest_prices = get_latest_prices(data)\n",
    "# if __name__ == '__main_':\n",
    "#     p = Pool(4)\n",
    "#     da = p.map(DiscreteAllocation(weights,latest_prices), weights)\n",
    "#     ef = p.map(EfficientFrontier(mu, S, weight_bounds=(0, 0.10), gamma=1), s)\n",
    "\n",
    "# allocation, leftover = da.lp_portfolio()\n",
    "# print('------------------------------- DA ------------------------------------')\n",
    "# print(\"Discrete allocation:\", allocation)\n",
    "# print(\"Funds remaining: ${:.2f}\".format(leftover))\n",
    "# print('------------------------------- EF Min Vol ------------------------------------')\n",
    "# weights = ef.min_volatility()\n",
    "# print(weights)\n",
    "# ef.portfolio_performance(verbose=True)"
   ]
  },
  {
   "cell_type": "code",
   "execution_count": null,
   "metadata": {},
   "outputs": [],
   "source": [
    "# # Long-only Maximum Sharpe portfolio, with discretised weights\n",
    "# ef = EfficientFrontier(mu, S)\n",
    "# weights = ef.max_sharpe()\n",
    "# ef.portfolio_performance(verbose=True)\n",
    "# latest_prices = get_latest_prices(data)\n",
    "\n",
    "# da = DiscreteAllocation(weights, latest_prices)\n",
    "# allocation, leftover = da.lp_portfolio()\n",
    "# print(\"Discrete allocation:\", allocation)\n",
    "# print(\"Funds remaining: ${:.2f}\".format(leftover))"
   ]
  },
  {
   "cell_type": "code",
   "execution_count": null,
   "metadata": {},
   "outputs": [],
   "source": [
    "# # Long-only minimum volatility portfolio, with a weight cap and regularisation\n",
    "# # e.g if we want at least 15/20 tickers to have non-neglible weights, and no\n",
    "# # asset should have a weight greater than 10%\n",
    "# ef = EfficientFrontier(mu, S, weight_bounds=(0, 0.10), gamma=1)\n",
    "# weights = ef.min_volatility()\n",
    "# print(weights)\n",
    "# ef.portfolio_performance(verbose=True)"
   ]
  },
  {
   "cell_type": "code",
   "execution_count": null,
   "metadata": {},
   "outputs": [],
   "source": [
    "# # A long/short portfolio maximising return for a target volatility of 10%,\n",
    "# # with a shrunk covariance matrix risk model\n",
    "# shrink = risk_models.CovarianceShrinkage(data)\n",
    "# S = shrink.ledoit_wolf()\n",
    "# ef = EfficientFrontier(mu, S, weight_bounds=(-1, 1))\n",
    "# weights = ef.efficient_risk(target_risk=0.10)\n",
    "# ef.portfolio_performance(verbose=True)"
   ]
  },
  {
   "cell_type": "code",
   "execution_count": null,
   "metadata": {},
   "outputs": [],
   "source": [
    "# # A market-neutral Markowitz portfolio finding the minimum volatility\n",
    "# # for a target return of 20%\n",
    "# ef = EfficientFrontier(mu, S, weight_bounds=(-1, 1))\n",
    "# weights = ef.efficient_return(target_return=0.20, market_neutral=True)\n",
    "# ef.portfolio_performance(verbose=True)"
   ]
  },
  {
   "cell_type": "code",
   "execution_count": null,
   "metadata": {},
   "outputs": [],
   "source": [
    "# # Custom objective\n",
    "# def utility_obj(weights, mu, cov_matrix, k=1):\n",
    "#     return -weights.dot(mu) + k * np.dot(weights.T, np.dot(cov_matrix, weights))\n",
    "\n",
    "\n",
    "# ef = EfficientFrontier(mu, S)\n",
    "# ef.custom_objective(utility_obj, ef.expected_returns, ef.cov_matrix, 1)\n",
    "# ef.portfolio_performance(verbose=True)"
   ]
  },
  {
   "cell_type": "code",
   "execution_count": null,
   "metadata": {},
   "outputs": [],
   "source": [
    "# # Crticial Line Algorithm\n",
    "# cla = CLA(mu, S)\n",
    "# print(cla.max_sharpe())\n",
    "# cla.portfolio_performance(verbose=True)"
   ]
  },
  {
   "cell_type": "code",
   "execution_count": null,
   "metadata": {},
   "outputs": [],
   "source": [
    "# def sumFunction(n):\n",
    "#     mySum=0\n",
    "#     for i in range(n):\n",
    "#         mySum+=i\n",
    "#     return mySum\n",
    "\n",
    "# if __name__ == '__main__':\n",
    "#     for i in range(1,10):\n",
    "#         p = Pool(processes=i)\n",
    "#         #startTime=time.time()\n",
    "#         p.map(sumFunction, [20000000 for x in range(12)])\n",
    "#         #endTime=time.time()\n",
    "#         p.close()\n",
    "#         #print(\"Using \",i,\" processors it took\", endTime-startTime, \" seconds\")"
   ]
  }
 ],
 "metadata": {
  "kernelspec": {
   "display_name": "Python 3",
   "language": "python",
   "name": "python3"
  },
  "language_info": {
   "codemirror_mode": {
    "name": "ipython",
    "version": 3
   },
   "file_extension": ".py",
   "mimetype": "text/x-python",
   "name": "python",
   "nbconvert_exporter": "python",
   "pygments_lexer": "ipython3",
   "version": "3.7.3"
  }
 },
 "nbformat": 4,
 "nbformat_minor": 2
}
